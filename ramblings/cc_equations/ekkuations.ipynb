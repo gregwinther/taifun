{
 "cells": [
  {
   "cell_type": "markdown",
   "metadata": {},
   "source": [
    "## The Coupled Cluster Approximation"
   ]
  },
  {
   "cell_type": "markdown",
   "metadata": {},
   "source": [
    "We can approximate the true wavefunction $\\lvert \\Psi \\rangle$, of the system, by the coupled cluster wavefunction, $\\lvert \\Psi_{CC} \\rangle$, defined by\n",
    "\n",
    "$$\n",
    "    \\lvert \\Psi_{CC} \\rangle \\equiv e^T \\lvert \\Phi_0\\rangle\n",
    "        \\left(\\sum_{i=0}^n \\frac{1}{n!}T^n\\right) \\lvert \\Phi_0\\rangle\n",
    "$$"
   ]
  },
  {
   "cell_type": "markdown",
   "metadata": {},
   "source": [
    "But we have the complication that the cluster operator $T$ is\n",
    "\n",
    "$$\n",
    "    T = T_1 + T_2 + T_3 + \\dots\n",
    "$$\n",
    "\n",
    "with\n",
    "\n",
    "$$\n",
    "    T_n = \\left(\\frac{1}{n!}\\right)^2t^{i_1\\dots i_n}_{a_1\\dots a_n}a_1\\dots a_n i_1 \\dots i_n\n",
    "$$"
   ]
  },
  {
   "cell_type": "markdown",
   "metadata": {},
   "source": [
    "Use similarity-transformed Hamiltonian,\n",
    "$$\n",
    "    \\mathfrak{H} = e^{-T} \\hat{H}_Ne^{T}.\n",
    "$$\n"
   ]
  },
  {
   "cell_type": "markdown",
   "metadata": {},
   "source": [
    "Apply the Baker, the Camper and the House-Village,\n",
    "$$\n",
    "    \\mathfrak{H} = \\hat{H}_N + [\\hat{H}_N, T] + \\frac{1}{2!}[[\\hat{H}_N, T], T] + \\frac{1}{3!}[[[\\hat{H}_N, T],T],T] + \\frac{1}{4!}[[[[\\hat{H}_N,T],T],T],T]\n",
    "$$\n",
    "and then it stops, because $\\hat{H}_N$ has at most two-particle interactions."
   ]
  },
  {
   "cell_type": "code",
   "execution_count": 2,
   "metadata": {},
   "outputs": [],
   "source": [
    "from sympy.physics.secondquant import (AntiSymmetricTensor, wicks,\n",
    "        F, Fd, NO, evaluate_deltas, substitute_dummies, Commutator,\n",
    "        simplify_index_permutations, PermutationOperator)\n",
    "from sympy import (\n",
    "    symbols, expand, pprint, Rational, latex, Dummy\n",
    ")\n",
    "\n",
    "pretty_dummies_d = {\n",
    "    'above': 'cdefgh',\n",
    "    'below': 'klmn',\n",
    "    'general': 'pqrst'\n",
    "}\n",
    "\n",
    "pretty_dummies_t = {\n",
    "    'above': 'defgh',\n",
    "    'below': 'klmn',\n",
    "    'general': 'pqrs'\n",
    "}"
   ]
  },
  {
   "cell_type": "code",
   "execution_count": 3,
   "metadata": {},
   "outputs": [],
   "source": [
    "# Hamiltonian\n",
    "def get_hamiltonian():\n",
    "    p, q, r, s = symbols('p,q,r,s', cls=Dummy)\n",
    "    f = AntiSymmetricTensor('f', (p,), (q,))\n",
    "    pq = Fd(p)*F(q)\n",
    "    u = AntiSymmetricTensor('u', (p,q), (r,s))\n",
    "    pqrs = Fd(p)*Fd(q)*F(r)*F(s)\n",
    "    H1 = f*NO(pq)\n",
    "    H2 = Rational(1, 4)*u*NO(pqrs)\n",
    "    return H1, H2"
   ]
  },
  {
   "cell_type": "code",
   "execution_count": 9,
   "metadata": {},
   "outputs": [],
   "source": [
    "def compute_hausdorff(H, operator_function, pretty_dummies_dict):\n",
    "    C = Commutator\n",
    "    \n",
    "    # I am not sure this works... 1+1+1+1+12+ekpqamfoinsz<0\n",
    "    T = sum(operator_function())\n",
    "    print(\"commutator 1...\")\n",
    "    comm1 = wicks(C(H, T))\n",
    "    comm1 = evaluate_deltas(comm1)\n",
    "    comm1 = substitute_dummies(comm1)\n",
    "\n",
    "    T = sum(operator_function())\n",
    "    print(\"commutator 2...\")\n",
    "    comm2 = wicks(C(comm1, T))\n",
    "    comm2 = evaluate_deltas(comm2)\n",
    "    comm2 = substitute_dummies(comm2)\n",
    "    \n",
    "    T = sum(operator_function())\n",
    "    print(\"commutator 3...\")\n",
    "    comm3 = wicks(C(comm2, T))\n",
    "    comm3 = evaluate_deltas(comm3)\n",
    "    comm3 = substitute_dummies(comm3)\n",
    "\n",
    "    T = sum(operator_function())\n",
    "    print(\"commutator 4...\")\n",
    "    comm4 = wicks(C(comm3, T))\n",
    "    comm4 = evaluate_deltas(comm4)\n",
    "    comm4 = substitute_dummies(comm4)\n",
    "\n",
    "    T = sum(operator_function())\n",
    "    print(\"construct Hausdorff expansion...\")\n",
    "    eq = H + comm1 + comm2/2 + comm3/6 + comm4/24\n",
    "    eq = eq.expand()\n",
    "    eq = evaluate_deltas(eq)\n",
    "    eq = substitute_dummies(eq, new_indices=True,\n",
    "            pretty_indices=pretty_dummies_dict)\n",
    "    \n",
    "    print()\n",
    "    return eq"
   ]
  },
  {
   "cell_type": "code",
   "execution_count": 11,
   "metadata": {},
   "outputs": [],
   "source": [
    "# Cluster operators\n",
    "\n",
    "# Singles\n",
    "def get_singles_operator():\n",
    "    i = symbols('i', below_fermi=True, cls=Dummy)\n",
    "    a = symbols('a', above_fermi=True, cls=Dummy)\n",
    "    t = AntiSymmetricTensor('t', (a,), (i,))\n",
    "    ai = Fd(a)*F(i)\n",
    "    T1 = t*NO(ai)\n",
    "    return T1\n",
    "\n",
    "# Doubles\n",
    "def get_doubles_operator():\n",
    "    i, j = symbols('i,j', below_fermi=True, cls=Dummy)\n",
    "    a, b = symbols('a,b', above_fermi=True, cls=Dummy)\n",
    "    t = AntiSymmetricTensor('t', (a, b), (i, j))\n",
    "    abji = Fd(a)*Fd(b)*F(j)*F(i)\n",
    "    T2 = Rational(1, 4)*t*NO(abji)\n",
    "    return T2\n",
    "\n",
    "# Triples\n",
    "def get_triples_operator():\n",
    "    i, j, k = symbols('i,j,k', below_fermi=True, cls=Dummy)\n",
    "    a, b, c = symbols('a,b,c', above_fermi=True, cls=Dummy)\n",
    "    t = AntiSymmetricTensor('t', (a, b, c), (i, j, k))\n",
    "    abckji = Fd(a)*Fd(b)*Fd(c)*F(k)*F(j)*F(i)\n",
    "    T3 = Rational(1, 36)*t*NO(abckji)\n",
    "    return T3"
   ]
  },
  {
   "cell_type": "markdown",
   "metadata": {},
   "source": [
    "## CCD Equations"
   ]
  },
  {
   "cell_type": "code",
   "execution_count": 17,
   "metadata": {},
   "outputs": [
    {
     "name": "stdout",
     "output_type": "stream",
     "text": [
      "commutator 1...\n",
      "commutator 2...\n",
      "commutator 3...\n",
      "commutator 4...\n",
      "construct Hausdorff expansion...\n",
      "\n"
     ]
    }
   ],
   "source": [
    "# CCD equations\n",
    "H1, H2 = get_hamiltonian()\n",
    "equation = compute_hausdorff(H1+H2, lambda: [get_doubles_operator()],\n",
    "                             pretty_dummies_d)\n",
    "energy = wicks(equation, simplify_dummies=True, \n",
    "               keep_only_fully_contracted=True,\n",
    "               simplify_kronecker_deltas=True)\n",
    "energy = substitute_dummies(energy, new_indices=True, \n",
    "                            pretty_indices=pretty_dummies_d)\n",
    "i, j = symbols('i,j', below_fermi=True)\n",
    "a, b = symbols('a,b', above_fermi=True)\n",
    "amplitude_equation = wicks(NO(Fd(i) * Fd(j) * F(b) * F(a)) * equation,\n",
    "                             simplify_dummies=True,\n",
    "                             keep_only_fully_contracted=True,\n",
    "                             simplify_kronecker_deltas=True)\n",
    "amplitude_equation = substitute_dummies(amplitude_equation,\n",
    "                                       new_indices=True,\n",
    "                                       pretty_indices=pretty_dummies_d)"
   ]
  },
  {
   "cell_type": "code",
   "execution_count": 18,
   "metadata": {},
   "outputs": [
    {
     "name": "stdout",
     "output_type": "stream",
     "text": [
      "E =  - \\frac{t^{dc}_{lk} u^{lk}_{dc}}{4} \n",
      "\n",
      "(doubles) 0 =  f^{k}_{i} t^{ab}_{jk} - f^{k}_{j} t^{ab}_{ik} - f^{a}_{c} t^{bc}_{ij} + f^{b}_{c} t^{ac}_{ij} - \\frac{t^{dc}_{ik} t^{ab}_{jl}}{2} u^{lk}_{dc} - \\frac{t^{dc}_{ij} t^{ab}_{lk}}{4} u^{lk}_{dc} - \\frac{t^{dc}_{ij} u^{ab}_{dc}}{2} + \\frac{t^{dc}_{jk} t^{ab}_{il}}{2} u^{lk}_{dc} - \\frac{t^{ac}_{lk} t^{bd}_{ij}}{2} u^{lk}_{dc} - t^{ac}_{ik} t^{bd}_{jl} u^{lk}_{dc} - t^{ac}_{ik} u^{bk}_{jc} - \\frac{t^{ac}_{ij} t^{bd}_{lk}}{2} u^{lk}_{dc} + t^{ac}_{jk} t^{bd}_{il} u^{lk}_{dc} + t^{ac}_{jk} u^{bk}_{ic} - \\frac{t^{ab}_{lk} u^{lk}_{ij}}{2} + t^{bc}_{ik} u^{ak}_{jc} - t^{bc}_{jk} u^{ak}_{ic} - u^{ab}_{ij}\n"
     ]
    }
   ],
   "source": [
    "print(\"E = \", latex(energy), \"\\n\")\n",
    "print(\"(doubles) 0 = \", latex(amplitude_equation))"
   ]
  },
  {
   "cell_type": "markdown",
   "metadata": {},
   "source": [
    "CCD energy\n",
    "$$\n",
    "    - \\frac{t^{dc}_{lk} u^{lk}_{dc}}{4}\n",
    "$$\n",
    "CCD amplitude equation\n",
    "$$\n",
    "   0 =  f^{k}_{i} t^{ab}_{jk} - f^{k}_{j} t^{ab}_{ik} - f^{a}_{c} t^{bc}_{ij} + f^{b}_{c} t^{ac}_{ij} - \\frac{t^{dc}_{ik} t^{ab}_{jl}}{2} u^{lk}_{dc} - \\frac{t^{dc}_{ij} t^{ab}_{lk}}{4} u^{lk}_{dc} - \\frac{t^{dc}_{ij} u^{ab}_{dc}}{2} + \\frac{t^{dc}_{jk} t^{ab}_{il}}{2} u^{lk}_{dc} - \\frac{t^{ac}_{lk} t^{bd}_{ij}}{2} u^{lk}_{dc} - t^{ac}_{ik} t^{bd}_{jl} u^{lk}_{dc} - t^{ac}_{ik} u^{bk}_{jc} - \\frac{t^{ac}_{ij} t^{bd}_{lk}}{2} u^{lk}_{dc} + t^{ac}_{jk} t^{bd}_{il} u^{lk}_{dc} + t^{ac}_{jk} u^{bk}_{ic} - \\frac{t^{ab}_{lk} u^{lk}_{ij}}{2} + t^{bc}_{ik} u^{ak}_{jc} - t^{bc}_{jk} u^{ak}_{ic} - u^{ab}_{ij}\n",
    "$$"
   ]
  },
  {
   "cell_type": "markdown",
   "metadata": {},
   "source": [
    "## CCDT Equations"
   ]
  },
  {
   "cell_type": "code",
   "execution_count": 20,
   "metadata": {},
   "outputs": [
    {
     "name": "stdout",
     "output_type": "stream",
     "text": [
      "commutator 1...\n",
      "commutator 2...\n",
      "commutator 3...\n",
      "commutator 4...\n",
      "construct Hausdorff expansion...\n",
      "\n"
     ]
    }
   ],
   "source": [
    "# CCDT equations\n",
    "H1, H2 = get_hamiltonian()\n",
    "equation = compute_hausdorff(H1+H2,\n",
    "                             lambda: [\n",
    "                                 get_doubles_operator(),\n",
    "                                 get_triples_operator()\n",
    "                             ],\n",
    "                             pretty_dummies_t)\n",
    "energy = wicks(equation, simplify_dummies=True, \n",
    "               keep_only_fully_contracted=True,\n",
    "               simplify_kronecker_deltas=True)\n",
    "energy = substitute_dummies(energy, new_indices=True, \n",
    "                            pretty_indices=pretty_dummies_d) \n",
    "i, j = symbols('i,j', below_fermi=True)\n",
    "a, b = symbols('a,b', above_fermi=True)\n",
    "doubles_amplitude = wicks(NO(Fd(i) * Fd(j) * F(b) * F(a)) * equation,\n",
    "                             simplify_dummies=True,\n",
    "                             keep_only_fully_contracted=True,\n",
    "                             simplify_kronecker_deltas=True)\n",
    "doubles_amplitude = substitute_dummies(doubles_amplitude,\n",
    "                                      new_indices=True,\n",
    "                                      pretty_indices=pretty_dummies_t)\n",
    "i, j, k = symbols('i,j,k', below_fermi=True)\n",
    "a, b, c = symbols('a,b,c', above_fermi=True)\n",
    "triples_amplitude = wicks(NO(Fd(i) * Fd(j) * Fd(k) * F(c) * F(b) * F(a)) * equation,\n",
    "                         simplify_dummies=True,\n",
    "                         keep_only_fully_contracted=True,\n",
    "                         simplify_kronecker_deltas=True)\n",
    "triples_amplitude = simplify_index_permutations(triples_amplitude,\n",
    "                            [\n",
    "                                PermutationOperator(a, b),\n",
    "                                PermutationOperator(a, c),\n",
    "                                PermutationOperator(b, c),\n",
    "                                PermutationOperator(i, j),\n",
    "                                PermutationOperator(i, k),\n",
    "                                PermutationOperator(j, k)\n",
    "                            ])\n",
    "triples_amplitude = substitute_dummies(triples_amplitude,\n",
    "                                      new_indices=True,\n",
    "                                      pretty_indices=pretty_dummies_t)"
   ]
  },
  {
   "cell_type": "code",
   "execution_count": 22,
   "metadata": {},
   "outputs": [
    {
     "name": "stdout",
     "output_type": "stream",
     "text": [
      "E =  - \\frac{t^{dc}_{lk} u^{lk}_{dc}}{4} \n",
      "\n",
      "(doubles) 0 =  f^{k}_{d} t^{abd}_{ijk} + f^{k}_{i} t^{ab}_{jk} - f^{k}_{j} t^{ab}_{ik} - f^{a}_{d} t^{bd}_{ij} + f^{b}_{d} t^{ad}_{ij} - \\frac{t^{ed}_{ik} t^{ab}_{jl}}{2} u^{lk}_{ed} - \\frac{t^{ed}_{ij} t^{ab}_{lk}}{4} u^{lk}_{ed} - \\frac{t^{ed}_{ij} u^{ab}_{ed}}{2} + \\frac{t^{ed}_{jk} t^{ab}_{il}}{2} u^{lk}_{ed} - \\frac{t^{ad}_{lk} t^{be}_{ij}}{2} u^{lk}_{ed} - t^{ad}_{ik} t^{be}_{jl} u^{lk}_{ed} - t^{ad}_{ik} u^{bk}_{jd} - \\frac{t^{ad}_{ij} t^{be}_{lk}}{2} u^{lk}_{ed} + t^{ad}_{jk} t^{be}_{il} u^{lk}_{ed} + t^{ad}_{jk} u^{bk}_{id} - \\frac{t^{ab}_{lk} u^{lk}_{ij}}{2} + t^{bd}_{ik} u^{ak}_{jd} - t^{bd}_{jk} u^{ak}_{id} - \\frac{t^{aed}_{ijk} u^{bk}_{ed}}{2} + \\frac{t^{abd}_{ilk} u^{lk}_{jd}}{2} - \\frac{t^{abd}_{jlk} u^{lk}_{id}}{2} + \\frac{t^{bed}_{ijk} u^{ak}_{ed}}{2} - u^{ab}_{ij} \n",
      "\n",
      "(triples) 0 =  - f^{k}_{d} t^{ad}_{ij} t^{cb}_{kk} P(ab) - f^{k}_{d} t^{ab}_{ik} t^{cd}_{kj} P(ij) + f^{k}_{d} t^{ab}_{kk} t^{cd}_{ij} + f^{k}_{d} t^{ac}_{ik} t^{bd}_{kj} P(ab) P(ij) - f^{k}_{i} t^{acb}_{kjk} P(ij) + f^{k}_{k} t^{acb}_{ijk} + f^{a}_{d} t^{cbd}_{ikj} P(ab) - f^{c}_{d} t^{abd}_{ikj} + \\frac{t^{ed}_{ik} t^{acb}_{kjl}}{2} u^{lk}_{ed} P(ij) - \\frac{t^{ed}_{ij} t^{ab}_{kk}}{2} u^{ck}_{ed} + \\frac{t^{ed}_{ij} t^{ac}_{kk}}{2} u^{bk}_{ed} P(ab) + \\frac{t^{ed}_{ij} t^{acb}_{klk}}{4} u^{lk}_{ed} - \\frac{t^{ed}_{ik} t^{acb}_{jlk}}{4} u^{lk}_{ed} P(ij) - \\frac{t^{ed}_{kk} t^{acb}_{ijl}}{2} u^{lk}_{ed} + \\frac{t^{ed}_{kj} t^{ab}_{ik}}{2} u^{ck}_{ed} P(ij) - \\frac{t^{ed}_{kj} t^{ac}_{ik}}{2} u^{bk}_{ed} P(ab) P(ij) + \\frac{t^{ad}_{lk} t^{cbe}_{ikj}}{2} u^{lk}_{ed} P(ab) + t^{ad}_{ik} t^{be}_{kj} u^{ck}_{ed} P(ab) P(ij) - t^{ad}_{ik} t^{ce}_{kj} u^{bk}_{ed} P(ab) P(ij) - t^{ad}_{ik} t^{cb}_{jl} u^{lk}_{kd} P(ab) P(ij) - t^{ad}_{ik} t^{cbe}_{kjl} u^{lk}_{ed} P(ab) P(ij) - t^{ad}_{ij} t^{be}_{kk} u^{ck}_{ed} P(ab) + t^{ad}_{ij} t^{ce}_{kk} u^{bk}_{ed} P(ab) - \\frac{t^{ad}_{ij} t^{cbe}_{klk}}{2} u^{lk}_{ed} P(ab) - t^{ad}_{ij} u^{cb}_{kd} P(ab) - t^{ad}_{ik} t^{ce}_{jk} u^{bk}_{ed} P(ab) P(ij) + \\frac{t^{ad}_{ik} t^{cb}_{lk}}{2} u^{lk}_{jd} P(ab) + \\frac{t^{ad}_{ik} t^{cbe}_{jlk}}{2} u^{lk}_{ed} P(ab) P(ij) + t^{ad}_{ik} u^{cb}_{jd} P(ab) P(ij) + t^{ad}_{kk} t^{ce}_{ij} u^{bk}_{ed} P(ab) - t^{ad}_{kk} t^{cb}_{il} u^{lk}_{jd} P(ab) P(ij) + t^{ad}_{kk} t^{cbe}_{ijl} u^{lk}_{ed} P(ab) + \\frac{t^{ab}_{lk} t^{cd}_{ij}}{2} u^{lk}_{kd} - \\frac{t^{ab}_{lk} t^{cd}_{ik}}{2} u^{lk}_{jd} P(ij) + \\frac{t^{ab}_{lk} t^{ced}_{ikj}}{4} u^{lk}_{ed} + t^{ab}_{ik} t^{cd}_{jl} u^{lk}_{kd} P(ij) - t^{ab}_{ik} t^{cd}_{kl} u^{lk}_{jd} P(ij) - \\frac{t^{ab}_{ik} t^{ced}_{kjl}}{2} u^{lk}_{ed} P(ij) + t^{ab}_{ik} u^{ck}_{kj} P(ij) + t^{ab}_{kk} t^{cd}_{il} u^{lk}_{jd} P(ij) + \\frac{t^{ab}_{kk} t^{ced}_{ijl}}{2} u^{lk}_{ed} - t^{ab}_{kk} u^{ck}_{ij} - \\frac{t^{ac}_{lk} t^{bd}_{ij}}{2} u^{lk}_{kd} P(ab) P(ik) - \\frac{t^{ac}_{lk} t^{bed}_{ikj}}{4} u^{lk}_{ed} P(ab) + \\frac{t^{ac}_{ik} t^{bed}_{kjl}}{2} u^{lk}_{ed} P(ab) P(ij) - t^{ac}_{ik} u^{bk}_{kj} P(ab) P(ij) - t^{ac}_{kk} t^{bd}_{il} u^{lk}_{jd} P(ab) P(ij) - \\frac{t^{ac}_{kk} t^{bed}_{ijl}}{2} u^{lk}_{ed} P(ab) + t^{ac}_{kk} u^{bk}_{ij} P(ab) + t^{cd}_{ij} u^{ab}_{kd} - t^{cd}_{ik} u^{ab}_{jd} P(ij) + \\frac{t^{ce}_{lk} t^{abd}_{ikj}}{2} u^{lk}_{ed} + t^{ce}_{il} t^{abd}_{kjk} u^{lk}_{ed} P(ij) - \\frac{t^{ce}_{ij} t^{abd}_{klk}}{2} u^{lk}_{ed} + \\frac{t^{ce}_{ik} t^{abd}_{jlk}}{2} u^{lk}_{ed} P(ij) - t^{ce}_{kl} t^{abd}_{ijk} u^{lk}_{ed} - \\frac{t^{aed}_{ikj} u^{cb}_{ed}}{2} P(ab) - t^{abd}_{ijk} u^{ck}_{kd} + t^{abd}_{ikk} u^{ck}_{jd} P(ij) + t^{acd}_{ijk} u^{bk}_{kd} P(ab) - t^{acd}_{ikk} u^{bk}_{jd} P(ab) P(ij) - \\frac{t^{acb}_{ilk} u^{lk}_{kj}}{2} P(ij) + \\frac{t^{acb}_{klk} u^{lk}_{ij}}{2} + \\frac{t^{ced}_{ikj} u^{ab}_{ed}}{2}\n"
     ]
    }
   ],
   "source": [
    "print(\"E = \", latex(energy), \"\\n\")\n",
    "print(\"(doubles) 0 = \", latex(doubles_amplitude), \"\\n\")\n",
    "print(\"(triples) 0 = \", latex(triples_amplitude))"
   ]
  },
  {
   "cell_type": "markdown",
   "metadata": {},
   "source": [
    "Praise science! And also; holy sh*t"
   ]
  }
 ],
 "metadata": {
  "kernelspec": {
   "display_name": "Python 3",
   "language": "python",
   "name": "python3"
  },
  "language_info": {
   "codemirror_mode": {
    "name": "ipython",
    "version": 3
   },
   "file_extension": ".py",
   "mimetype": "text/x-python",
   "name": "python",
   "nbconvert_exporter": "python",
   "pygments_lexer": "ipython3",
   "version": "3.6.1"
  }
 },
 "nbformat": 4,
 "nbformat_minor": 2
}
